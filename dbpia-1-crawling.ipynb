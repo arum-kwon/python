{
 "cells": [
  {
   "cell_type": "code",
   "execution_count": 1,
   "id": "dfea0a97",
   "metadata": {
    "scrolled": true
   },
   "outputs": [],
   "source": [
    "# -*- coding: utf-8 -*-\n",
    "#pip install requests beautifulsoup4 lxml selenium"
   ]
  },
  {
   "cell_type": "code",
   "execution_count": 8,
   "id": "f6246253",
   "metadata": {},
   "outputs": [],
   "source": [
    "import warnings\n",
    "warnings.filterwarnings(\"ignore\")"
   ]
  },
  {
   "cell_type": "markdown",
   "id": "2a8676ed",
   "metadata": {},
   "source": [
    "### 저장 경로 및 크롤링 사이트 지정 / html 구조 분석 "
   ]
  },
  {
   "cell_type": "code",
   "execution_count": 32,
   "id": "9953bd51",
   "metadata": {},
   "outputs": [
    {
     "name": "stdout",
     "output_type": "stream",
     "text": [
      "item size : 564\n"
     ]
    }
   ],
   "source": [
    "import requests\n",
    "from bs4 import BeautifulSoup\n",
    "import re\n",
    "from selenium import webdriver\n",
    "import os\n",
    "import time\n",
    "\n",
    "#저장 경로 \n",
    "save_path = \"./data/smart_factory_crawling_result.csv\"\n",
    "# 크롤링할 사이트 주소를 정의합니다.\n",
    "source_url = \"https://www.dbpia.co.kr/search/topSearch?startCount=0&collection=ALL&range=A&searchField=ALL&sort=RANK&query=%EC%8A%A4%EB%A7%88%ED%8A%B8+%ED%8C%A9%ED%86%A0%EB%A6%AC&srchOption=*&includeAr=false#none\"\n",
    "\n",
    "#내용이 자바스크립트로 실행되기 때문에, 스크립트가 실행된 후 크롤링 시도\n",
    "driver_path = os.path.join(\"./chromedriver_win32/\", \"chromedriver\")\n",
    "driver = webdriver.Chrome(driver_path, options=webdriver.ChromeOptions().add_argument(\"headless\"))\n",
    "driver.get(source_url)\n",
    "\n",
    "# 더보기 클릭하여 모든 목록 불러오기\n",
    "html = driver.page_source\n",
    "soup = BeautifulSoup(html, 'lxml')\n",
    "searchCount = soup.find(\"span\", \"searchCount\").text #검색 결과 숫자로 반복할 횟수 정함\n",
    "count = re.sub(r'[^0-9]', '', searchCount)\n",
    "count = int(count) // 10 + 1 \n",
    "\n",
    "SCROLL_PAUSE_TIME = 1.5 \n",
    "for index in range(count):\n",
    "    try :\n",
    "        driver.find_element_by_xpath(\"//div[@class='listFoot']/div[@class='paginate']/a[@class='viewMore']\").click() \n",
    "        time.sleep(SCROLL_PAUSE_TIME) \n",
    "    except :  \n",
    "        break \n",
    "    \n",
    "# 사이트의 html 구조에 기반하여 크롤링을 수행합니다.\n",
    "html = driver.page_source\n",
    "driver.close()\n",
    "soup = BeautifulSoup(html, 'lxml')\n",
    "\n",
    "div_contRight = soup.find(\"div\", { \"class\" : \"contRight\" })\n",
    "\n",
    "div_listBody = div_contRight.find(\"div\", { \"class\" : \"listBody\" })\n",
    "li_item = div_listBody.find_all(\"li\", { \"class\" : \"item\" })\n",
    "print(\"item size : \" + str(len(li_item)))"
   ]
  },
  {
   "cell_type": "markdown",
   "id": "0107196f",
   "metadata": {},
   "source": [
    "### 데이처 추출하고 저장"
   ]
  },
  {
   "cell_type": "code",
   "execution_count": null,
   "id": "dad8ce7a",
   "metadata": {},
   "outputs": [],
   "source": [
    "import pandas as pd #데이터 프레임으로 저장 \n",
    "import random\n",
    "import numpy as np\n",
    "\n",
    "# 크롤링한 데이터를 데이터 프레임으로 만들기 위해 준비합니다.\n",
    "columns = ['Type', 'Title', 'Author', 'Year', 'Abstract', 'Link']\n",
    "df = pd.DataFrame(columns=columns)\n",
    "\n",
    "#초록 추출\n",
    "def get_abstract(url):\n",
    "    abstractText = \"\"    \n",
    "    if link : \n",
    "        driver_path = os.path.join(\"./chromedriver_win32/\", \"chromedriver\")\n",
    "        driver = webdriver.Chrome(driver_path, options=webdriver.ChromeOptions().add_argument(\"headless\"))\n",
    "        driver.get(link)\n",
    "\n",
    "        html = driver.page_source\n",
    "        soup2 = BeautifulSoup(html, 'lxml')\n",
    "        \n",
    "        abstractDiv = soup2.find(\"div\", { \"class\" : \"abstractWrap\" })\n",
    "        articleP = abstractDiv.find_all(\"p\", { \"class\" : \"article\" })\n",
    "        \n",
    "        if articleP :\n",
    "            for article in articleP :\n",
    "                while True :\n",
    "                    if article.span :\n",
    "                        article.span.decompose() \n",
    "                    else :\n",
    "                        break;\n",
    "                abstractText = abstractText + article.text\n",
    "        driver.close()\n",
    "    \n",
    "    return abstractText\n",
    "\n",
    "page_url_base = \"https://www.dbpia.co.kr\"\n",
    "for index in range(len(li_item)):\n",
    "    try : #타입 \n",
    "        data_type = li_item[index].find(\"ul\", { \"class\" : \"type\" }).find(\"li\", { \"class\" : \"data\" }).text\n",
    "    except: \n",
    "        data_type = \"\"\n",
    "        \n",
    "    try : #제목\n",
    "        title = li_item[index].find(\"div\", { \"class\" : \"titWrap\" }).find(\"h5\").text\n",
    "    except: \n",
    "        title = \"\"\n",
    "       \n",
    "    try : #저자\n",
    "        author = li_item[index].find(\"li\", {\"class\" : \"author\"}).text\n",
    "    except: \n",
    "        author = \"\"\n",
    "       \n",
    "    try : #발행연도\n",
    "        year = li_item[index].find(\"li\", {\"class\" : \"date\"}).text\n",
    "    except: \n",
    "        year = \"\"\n",
    "        \n",
    "    try : #링크, 초록\n",
    "        titUrl = li_item[index].find(\"a\").get('href')\n",
    "        link = page_url_base + titUrl\n",
    "        abstract = get_abstract(link)\n",
    "    except Exception as e :\n",
    "        print('오류 발생~!.', e)\n",
    "        link = \"\"\n",
    "        abstract = \"\"  \n",
    "       \n",
    "    row = [data_type, title, author, year, abstract, link]\n",
    "    series = pd.Series(row, index=df.columns)\n",
    "    df = df.append(series, ignore_index=True)\n",
    "    \n",
    "    #속도 조절\n",
    "    rand_value = np.random.randint(1, 5)\n",
    "    time.sleep(rand_value)\n",
    "       \n",
    "df.to_csv(save_path, encoding='utf-8')\n"
   ]
  },
  {
   "cell_type": "code",
   "execution_count": null,
   "id": "d6f6a380",
   "metadata": {},
   "outputs": [],
   "source": []
  }
 ],
 "metadata": {
  "kernelspec": {
   "display_name": "Python 3 (ipykernel)",
   "language": "python",
   "name": "python3"
  },
  "language_info": {
   "codemirror_mode": {
    "name": "ipython",
    "version": 3
   },
   "file_extension": ".py",
   "mimetype": "text/x-python",
   "name": "python",
   "nbconvert_exporter": "python",
   "pygments_lexer": "ipython3",
   "version": "3.8.12"
  }
 },
 "nbformat": 4,
 "nbformat_minor": 5
}
